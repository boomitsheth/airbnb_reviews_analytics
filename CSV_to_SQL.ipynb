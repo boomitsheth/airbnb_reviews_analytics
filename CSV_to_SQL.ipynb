{
  "nbformat": 4,
  "nbformat_minor": 0,
  "metadata": {
    "colab": {
      "provenance": [],
      "authorship_tag": "ABX9TyOkIIWNlMdfONWPaUM19uJD",
      "include_colab_link": true
    },
    "kernelspec": {
      "name": "python3",
      "display_name": "Python 3"
    },
    "language_info": {
      "name": "python"
    }
  },
  "cells": [
    {
      "cell_type": "markdown",
      "metadata": {
        "id": "view-in-github",
        "colab_type": "text"
      },
      "source": [
        "<a href=\"https://colab.research.google.com/github/boomitsheth/airbnb_reviews_analytics/blob/main/CSV_to_SQL.ipynb\" target=\"_parent\"><img src=\"https://colab.research.google.com/assets/colab-badge.svg\" alt=\"Open In Colab\"/></a>"
      ]
    },
    {
      "cell_type": "code",
      "execution_count": null,
      "metadata": {
        "id": "seffYULXq7JL"
      },
      "outputs": [],
      "source": [
        "import pandas as pd\n",
        "import glob, os\n",
        "from sqlalchemy import create_engine\n",
        "\n",
        "for file in glob.glob(\"*.csv\"):\n",
        "    df = pd.read_csv(file)\n",
        "\n",
        "    # Create SQLAlchemy engine to connect to MySQL Database\n",
        "    engine = create_engine(\"mysql+mysqldb://root:<PASSWORD>@localhost:3306/airbnb\")\n",
        "\n",
        "    # Convert dataframe to sql table\n",
        "    df.to_sql(file[:-4], engine, index=False)\n",
        "\n",
        "    print('done')"
      ]
    }
  ]
}